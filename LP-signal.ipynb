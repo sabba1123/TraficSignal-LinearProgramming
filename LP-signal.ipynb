{
 "cells": [
  {
   "cell_type": "markdown",
   "metadata": {},
   "source": [
    "<details><summary>信号機の最適化</summary>\n",
    "車が通行する道路1と道路2が交差する交差点を通る車の台数を最大化したい。   \n",
    "pulpを使って、整数計画問題として解く。  \n",
    "\n",
    "目的関数  \n",
    "・道路1および道路2の信号待ちで停止する車の数を最小化する。  \n",
    "\n",
    "制約条件  \n",
    "・交差点は道路1と道路2が交差するものとする。  \n",
    "・信号は1サイクルで青、黄、赤の順に点灯し、サイクルは永遠に繰り返す。  \n",
    "・信号が青または黄色の時、車は３秒に一台交差点を通過することができる。 #非実装  \n",
    "・信号が赤の時、車は交差点を通過することが出来ず、交差点で停止し信号待ちとなる。信号が青になったら再び通過する。  \n",
    "・交差する道路の片方の信号が青・黄色の時、交差する道路の信号は必ず赤である。  \n",
    "・黄色は固定で5秒とする。  \n",
    "・サイクルタイムは120秒とし、青⇒黄⇒赤⇒青の順で繰り返す。  \n",
    "・各信号の合計時間は必ずサイクルタイムと一致する。  \n",
    "・道路1を通り交差点を通過する車は10秒に1台である。  \n",
    "・道路2を通り交差点を通過する車は15秒に1台である。  \n",
    "\n",
    "結果表示  \n",
    "・Road 1の青信号の時間、Road 2の青信号の時間、Road 1の信号待ちの車の最大数、Road 2の信号待ちの車の最大数を表示する。"
   ]
  },
  {
   "cell_type": "code",
   "execution_count": 2,
   "metadata": {},
   "outputs": [
    {
     "name": "stdout",
     "output_type": "stream",
     "text": [
      "Road 1の青信号の時間: 67.0秒\n",
      "Road 1の赤信号の時間: 48.0秒\n",
      "Road 2の青信号の時間: 43.0秒\n",
      "Road 2の赤信号の時間: 72.0秒\n",
      "Road 1の信号待ちの車の最大数: 4.8台\n",
      "Road 2の信号待ちの車の最大数: 4.8台\n"
     ]
    }
   ],
   "source": [
    "from pulp import *\n",
    "#from math import floor\n",
    "\n",
    "# 問題の定義\n",
    "prob = LpProblem(\"TrafficSignalOptimization\", LpMinimize)\n",
    "\n",
    "# 変数の定義\n",
    "road1_green = LpVariable(\"Road1Green\", 0, 120)  # Road 1の青信号時間\n",
    "road2_green = LpVariable(\"Road2Green\", 0, 120)  # Road 2の青信号時間\n",
    "road1_wait = LpVariable(\"Road1Wait\", 0, None, LpInteger)  # Road 1の信号待ちの車の数\n",
    "road2_wait = LpVariable(\"Road2Wait\", 0, None, LpInteger)  # Road 2の信号待ちの車の数\n",
    "\n",
    "# 目的関数\n",
    "#prob += road1_wait  # 信号待ちの車の数を交差する道路で同数にする。\n",
    "prob += road1_wait == road2_wait\n",
    "\n",
    "# 制約条件\n",
    "prob += road1_green + 5 + 5 + road2_green == 120  # サイクルタイムは120秒\n",
    "prob += road1_green >= 10  # Road 1の青信号は最低10秒\n",
    "prob += road2_green >= 15  # Road 2の青信号は最低15秒\n",
    "\n",
    "# 信号待ちの車の数の制約\n",
    "prob += road1_wait == (115 - road1_green) / 10  # 赤信号の時に増える車の台数　10秒に1台\n",
    "prob += road2_wait == (115 - road2_green) / 15  # 赤信号の時に増える車の台数　15秒に1台通過のため\n",
    "\n",
    "# 求解\n",
    "prob.solve()\n",
    "\n",
    "# 結果表示\n",
    "print(f\"Road 1の青信号の時間: {value(road1_green)}秒\")\n",
    "print(f\"Road 1の赤信号の時間: {115 - value(road1_green)}秒\")\n",
    "print(f\"Road 2の青信号の時間: {value(road2_green)}秒\")\n",
    "print(f\"Road 2の赤信号の時間: {115 - value(road2_green)}秒\")\n",
    "print(f\"Road 1の信号待ちの車の最大数: {value(road1_wait)}台\")\n",
    "print(f\"Road 2の信号待ちの車の最大数: {value(road2_wait)}台\")\n",
    "#print(f\"検算：Road1の信号待ちの車の数: {(115 - value(road1_green)) / 10}台\")\n",
    "#print(f\"検算：Road2の信号待ちの車の数: {(115 - value(road2_green)) / 15}台\")"
   ]
  }
 ],
 "metadata": {
  "kernelspec": {
   "display_name": "Python 3",
   "language": "python",
   "name": "python3"
  },
  "language_info": {
   "codemirror_mode": {
    "name": "ipython",
    "version": 3
   },
   "file_extension": ".py",
   "mimetype": "text/x-python",
   "name": "python",
   "nbconvert_exporter": "python",
   "pygments_lexer": "ipython3",
   "version": "3.8.7"
  }
 },
 "nbformat": 4,
 "nbformat_minor": 2
}
